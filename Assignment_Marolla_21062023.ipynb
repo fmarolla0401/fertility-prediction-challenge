{
 "cells": [
  {
   "cell_type": "code",
   "execution_count": 1,
   "id": "3d4a4c67-1ff3-404b-903c-0404a6aad503",
   "metadata": {},
   "outputs": [],
   "source": [
    "# Preparatory assignment for the LISS Challenge \n",
    "# Formulating the problem\n",
    "# What kind of problem is this? Classification or regression?\n",
    "#         Definitely a classification problem\n",
    "# What are the inputs (features) and what are the outcomes (target)?\n",
    "#         Background data of the respondents (sociodemographics, sociopolitical attitudes, etc.)        \n",
    "# How many classes are there in the target variable?\n",
    "#         Allegedly two, having children in 2020-2022 vs not having children in 2020-2022"
   ]
  },
  {
   "cell_type": "code",
   "execution_count": 2,
   "id": "af6e62c7-20b9-433b-a60d-f551b04d3f8b",
   "metadata": {},
   "outputs": [],
   "source": [
    "import pandas as pd "
   ]
  },
  {
   "cell_type": "code",
   "execution_count": 3,
   "id": "7657cf87-3948-430d-b250-5af231092570",
   "metadata": {},
   "outputs": [],
   "source": [
    "# Reading in and exploring the data\n",
    "# Reading the LISS features data\n",
    "data = pd.read_csv('LISS_example_input_data.csv', encoding='cp1252', low_memory=False)"
   ]
  },
  {
   "cell_type": "code",
   "execution_count": 4,
   "id": "1c485b40-c5bc-454e-8c3a-d57269e1cf99",
   "metadata": {},
   "outputs": [],
   "source": [
    "# Reading the LISS target data\n",
    "outcome = pd.read_csv('LISS_example_groundtruth_data.csv')"
   ]
  },
  {
   "cell_type": "code",
   "execution_count": 5,
   "id": "c65037bf-78a9-4f37-8d3f-ea75de752938",
   "metadata": {},
   "outputs": [
    {
     "data": {
      "text/plain": [
       "(9459, 29459)"
      ]
     },
     "execution_count": 5,
     "metadata": {},
     "output_type": "execute_result"
    }
   ],
   "source": [
    "# EXPLORING THE DATA\n",
    "# How many features do we have?\n",
    "data.shape"
   ]
  },
  {
   "cell_type": "code",
   "execution_count": 6,
   "id": "5156e576-8706-4b5b-9560-8e736119f677",
   "metadata": {},
   "outputs": [
    {
     "data": {
      "text/html": [
       "<div>\n",
       "<style scoped>\n",
       "    .dataframe tbody tr th:only-of-type {\n",
       "        vertical-align: middle;\n",
       "    }\n",
       "\n",
       "    .dataframe tbody tr th {\n",
       "        vertical-align: top;\n",
       "    }\n",
       "\n",
       "    .dataframe thead th {\n",
       "        text-align: right;\n",
       "    }\n",
       "</style>\n",
       "<table border=\"1\" class=\"dataframe\">\n",
       "  <thead>\n",
       "    <tr style=\"text-align: right;\">\n",
       "      <th></th>\n",
       "      <th>nomem_encr</th>\n",
       "      <th>gebjaar</th>\n",
       "      <th>geslacht</th>\n",
       "      <th>nohouse_encr2007</th>\n",
       "      <th>nohouse_encr2008</th>\n",
       "      <th>nohouse_encr2009</th>\n",
       "      <th>nohouse_encr2010</th>\n",
       "      <th>nohouse_encr2011</th>\n",
       "      <th>nohouse_encr2012</th>\n",
       "      <th>nohouse_encr2013</th>\n",
       "      <th>...</th>\n",
       "      <th>cw19l600</th>\n",
       "      <th>cw19l601</th>\n",
       "      <th>cw19l602</th>\n",
       "      <th>cw19l603</th>\n",
       "      <th>cw19l604</th>\n",
       "      <th>cw19l605</th>\n",
       "      <th>cw19l606</th>\n",
       "      <th>cw19l607</th>\n",
       "      <th>cw19l608</th>\n",
       "      <th>cw19l609</th>\n",
       "    </tr>\n",
       "  </thead>\n",
       "  <tbody>\n",
       "    <tr>\n",
       "      <th>0</th>\n",
       "      <td>800000.0</td>\n",
       "      <td>1980</td>\n",
       "      <td>Female</td>\n",
       "      <td>NaN</td>\n",
       "      <td>NaN</td>\n",
       "      <td>NaN</td>\n",
       "      <td>NaN</td>\n",
       "      <td>NaN</td>\n",
       "      <td>NaN</td>\n",
       "      <td>NaN</td>\n",
       "      <td>...</td>\n",
       "      <td>NaN</td>\n",
       "      <td>NaN</td>\n",
       "      <td>NaN</td>\n",
       "      <td>NaN</td>\n",
       "      <td>NaN</td>\n",
       "      <td>NaN</td>\n",
       "      <td>NaN</td>\n",
       "      <td>NaN</td>\n",
       "      <td>NaN</td>\n",
       "      <td>NaN</td>\n",
       "    </tr>\n",
       "    <tr>\n",
       "      <th>1</th>\n",
       "      <td>800018.0</td>\n",
       "      <td>1985</td>\n",
       "      <td>Male</td>\n",
       "      <td>NaN</td>\n",
       "      <td>NaN</td>\n",
       "      <td>NaN</td>\n",
       "      <td>NaN</td>\n",
       "      <td>NaN</td>\n",
       "      <td>516668.0</td>\n",
       "      <td>516668.0</td>\n",
       "      <td>...</td>\n",
       "      <td>NaN</td>\n",
       "      <td>NaN</td>\n",
       "      <td>NaN</td>\n",
       "      <td>NaN</td>\n",
       "      <td>NaN</td>\n",
       "      <td>NaN</td>\n",
       "      <td>NaN</td>\n",
       "      <td>NaN</td>\n",
       "      <td>NaN</td>\n",
       "      <td>NaN</td>\n",
       "    </tr>\n",
       "    <tr>\n",
       "      <th>2</th>\n",
       "      <td>800021.0</td>\n",
       "      <td>1979</td>\n",
       "      <td>Female</td>\n",
       "      <td>NaN</td>\n",
       "      <td>NaN</td>\n",
       "      <td>NaN</td>\n",
       "      <td>NaN</td>\n",
       "      <td>NaN</td>\n",
       "      <td>NaN</td>\n",
       "      <td>NaN</td>\n",
       "      <td>...</td>\n",
       "      <td>NaN</td>\n",
       "      <td>NaN</td>\n",
       "      <td>NaN</td>\n",
       "      <td>NaN</td>\n",
       "      <td>NaN</td>\n",
       "      <td>NaN</td>\n",
       "      <td>NaN</td>\n",
       "      <td>NaN</td>\n",
       "      <td>NaN</td>\n",
       "      <td>NaN</td>\n",
       "    </tr>\n",
       "    <tr>\n",
       "      <th>3</th>\n",
       "      <td>800033.0</td>\n",
       "      <td>1991</td>\n",
       "      <td>Male</td>\n",
       "      <td>583404.0</td>\n",
       "      <td>583404.0</td>\n",
       "      <td>583404.0</td>\n",
       "      <td>583404.0</td>\n",
       "      <td>583404.0</td>\n",
       "      <td>583404.0</td>\n",
       "      <td>583404.0</td>\n",
       "      <td>...</td>\n",
       "      <td>NaN</td>\n",
       "      <td>NaN</td>\n",
       "      <td>NaN</td>\n",
       "      <td>NaN</td>\n",
       "      <td>NaN</td>\n",
       "      <td>NaN</td>\n",
       "      <td>NaN</td>\n",
       "      <td>NaN</td>\n",
       "      <td>NaN</td>\n",
       "      <td>NaN</td>\n",
       "    </tr>\n",
       "    <tr>\n",
       "      <th>4</th>\n",
       "      <td>800042.0</td>\n",
       "      <td>1975</td>\n",
       "      <td>Female</td>\n",
       "      <td>500277.0</td>\n",
       "      <td>500277.0</td>\n",
       "      <td>500277.0</td>\n",
       "      <td>500277.0</td>\n",
       "      <td>500277.0</td>\n",
       "      <td>500277.0</td>\n",
       "      <td>500277.0</td>\n",
       "      <td>...</td>\n",
       "      <td>NaN</td>\n",
       "      <td>NaN</td>\n",
       "      <td>NaN</td>\n",
       "      <td>NaN</td>\n",
       "      <td>NaN</td>\n",
       "      <td>NaN</td>\n",
       "      <td>NaN</td>\n",
       "      <td>NaN</td>\n",
       "      <td>NaN</td>\n",
       "      <td>NaN</td>\n",
       "    </tr>\n",
       "    <tr>\n",
       "      <th>5</th>\n",
       "      <td>800057.0</td>\n",
       "      <td>1975</td>\n",
       "      <td>Male</td>\n",
       "      <td>580532.0</td>\n",
       "      <td>580532.0</td>\n",
       "      <td>580532.0</td>\n",
       "      <td>580532.0</td>\n",
       "      <td>580532.0</td>\n",
       "      <td>580532.0</td>\n",
       "      <td>580532.0</td>\n",
       "      <td>...</td>\n",
       "      <td>80.0</td>\n",
       "      <td>NaN</td>\n",
       "      <td>NaN</td>\n",
       "      <td>NaN</td>\n",
       "      <td>NaN</td>\n",
       "      <td>NaN</td>\n",
       "      <td>NaN</td>\n",
       "      <td>NaN</td>\n",
       "      <td>NaN</td>\n",
       "      <td>NaN</td>\n",
       "    </tr>\n",
       "    <tr>\n",
       "      <th>6</th>\n",
       "      <td>800076.0</td>\n",
       "      <td>1985</td>\n",
       "      <td>Female</td>\n",
       "      <td>578048.0</td>\n",
       "      <td>578048.0</td>\n",
       "      <td>589065.0</td>\n",
       "      <td>589065.0</td>\n",
       "      <td>NaN</td>\n",
       "      <td>NaN</td>\n",
       "      <td>NaN</td>\n",
       "      <td>...</td>\n",
       "      <td>NaN</td>\n",
       "      <td>NaN</td>\n",
       "      <td>NaN</td>\n",
       "      <td>NaN</td>\n",
       "      <td>NaN</td>\n",
       "      <td>NaN</td>\n",
       "      <td>NaN</td>\n",
       "      <td>NaN</td>\n",
       "      <td>NaN</td>\n",
       "      <td>NaN</td>\n",
       "    </tr>\n",
       "    <tr>\n",
       "      <th>7</th>\n",
       "      <td>800085.0</td>\n",
       "      <td>1977</td>\n",
       "      <td>Male</td>\n",
       "      <td>NaN</td>\n",
       "      <td>NaN</td>\n",
       "      <td>NaN</td>\n",
       "      <td>NaN</td>\n",
       "      <td>NaN</td>\n",
       "      <td>NaN</td>\n",
       "      <td>NaN</td>\n",
       "      <td>...</td>\n",
       "      <td>NaN</td>\n",
       "      <td>NaN</td>\n",
       "      <td>NaN</td>\n",
       "      <td>NaN</td>\n",
       "      <td>NaN</td>\n",
       "      <td>NaN</td>\n",
       "      <td>NaN</td>\n",
       "      <td>NaN</td>\n",
       "      <td>NaN</td>\n",
       "      <td>NaN</td>\n",
       "    </tr>\n",
       "    <tr>\n",
       "      <th>8</th>\n",
       "      <td>800103.0</td>\n",
       "      <td>1978</td>\n",
       "      <td>Female</td>\n",
       "      <td>NaN</td>\n",
       "      <td>NaN</td>\n",
       "      <td>557192.0</td>\n",
       "      <td>557192.0</td>\n",
       "      <td>557192.0</td>\n",
       "      <td>557192.0</td>\n",
       "      <td>NaN</td>\n",
       "      <td>...</td>\n",
       "      <td>NaN</td>\n",
       "      <td>NaN</td>\n",
       "      <td>NaN</td>\n",
       "      <td>NaN</td>\n",
       "      <td>NaN</td>\n",
       "      <td>NaN</td>\n",
       "      <td>NaN</td>\n",
       "      <td>NaN</td>\n",
       "      <td>NaN</td>\n",
       "      <td>NaN</td>\n",
       "    </tr>\n",
       "    <tr>\n",
       "      <th>9</th>\n",
       "      <td>800112.0</td>\n",
       "      <td>1990</td>\n",
       "      <td>Male</td>\n",
       "      <td>587908.0</td>\n",
       "      <td>587908.0</td>\n",
       "      <td>587908.0</td>\n",
       "      <td>587908.0</td>\n",
       "      <td>NaN</td>\n",
       "      <td>NaN</td>\n",
       "      <td>NaN</td>\n",
       "      <td>...</td>\n",
       "      <td>NaN</td>\n",
       "      <td>NaN</td>\n",
       "      <td>NaN</td>\n",
       "      <td>NaN</td>\n",
       "      <td>NaN</td>\n",
       "      <td>NaN</td>\n",
       "      <td>NaN</td>\n",
       "      <td>NaN</td>\n",
       "      <td>NaN</td>\n",
       "      <td>NaN</td>\n",
       "    </tr>\n",
       "  </tbody>\n",
       "</table>\n",
       "<p>10 rows × 29459 columns</p>\n",
       "</div>"
      ],
      "text/plain": [
       "   nomem_encr  gebjaar geslacht  nohouse_encr2007  nohouse_encr2008  \\\n",
       "0    800000.0     1980   Female               NaN               NaN   \n",
       "1    800018.0     1985     Male               NaN               NaN   \n",
       "2    800021.0     1979   Female               NaN               NaN   \n",
       "3    800033.0     1991     Male          583404.0          583404.0   \n",
       "4    800042.0     1975   Female          500277.0          500277.0   \n",
       "5    800057.0     1975     Male          580532.0          580532.0   \n",
       "6    800076.0     1985   Female          578048.0          578048.0   \n",
       "7    800085.0     1977     Male               NaN               NaN   \n",
       "8    800103.0     1978   Female               NaN               NaN   \n",
       "9    800112.0     1990     Male          587908.0          587908.0   \n",
       "\n",
       "   nohouse_encr2009  nohouse_encr2010  nohouse_encr2011  nohouse_encr2012  \\\n",
       "0               NaN               NaN               NaN               NaN   \n",
       "1               NaN               NaN               NaN          516668.0   \n",
       "2               NaN               NaN               NaN               NaN   \n",
       "3          583404.0          583404.0          583404.0          583404.0   \n",
       "4          500277.0          500277.0          500277.0          500277.0   \n",
       "5          580532.0          580532.0          580532.0          580532.0   \n",
       "6          589065.0          589065.0               NaN               NaN   \n",
       "7               NaN               NaN               NaN               NaN   \n",
       "8          557192.0          557192.0          557192.0          557192.0   \n",
       "9          587908.0          587908.0               NaN               NaN   \n",
       "\n",
       "   nohouse_encr2013  ...  cw19l600  cw19l601  cw19l602  cw19l603  cw19l604  \\\n",
       "0               NaN  ...       NaN       NaN       NaN       NaN       NaN   \n",
       "1          516668.0  ...       NaN       NaN       NaN       NaN       NaN   \n",
       "2               NaN  ...       NaN       NaN       NaN       NaN       NaN   \n",
       "3          583404.0  ...       NaN       NaN       NaN       NaN       NaN   \n",
       "4          500277.0  ...       NaN       NaN       NaN       NaN       NaN   \n",
       "5          580532.0  ...      80.0       NaN       NaN       NaN       NaN   \n",
       "6               NaN  ...       NaN       NaN       NaN       NaN       NaN   \n",
       "7               NaN  ...       NaN       NaN       NaN       NaN       NaN   \n",
       "8               NaN  ...       NaN       NaN       NaN       NaN       NaN   \n",
       "9               NaN  ...       NaN       NaN       NaN       NaN       NaN   \n",
       "\n",
       "   cw19l605  cw19l606  cw19l607  cw19l608  cw19l609  \n",
       "0       NaN       NaN       NaN       NaN       NaN  \n",
       "1       NaN       NaN       NaN       NaN       NaN  \n",
       "2       NaN       NaN       NaN       NaN       NaN  \n",
       "3       NaN       NaN       NaN       NaN       NaN  \n",
       "4       NaN       NaN       NaN       NaN       NaN  \n",
       "5       NaN       NaN       NaN       NaN       NaN  \n",
       "6       NaN       NaN       NaN       NaN       NaN  \n",
       "7       NaN       NaN       NaN       NaN       NaN  \n",
       "8       NaN       NaN       NaN       NaN       NaN  \n",
       "9       NaN       NaN       NaN       NaN       NaN  \n",
       "\n",
       "[10 rows x 29459 columns]"
      ]
     },
     "execution_count": 6,
     "metadata": {},
     "output_type": "execute_result"
    }
   ],
   "source": [
    "# Let's check if they are both structured in the same way\n",
    "data.head(10)"
   ]
  },
  {
   "cell_type": "code",
   "execution_count": 7,
   "id": "f61985d7-d9a7-47c3-aad0-17cdf1e337cb",
   "metadata": {},
   "outputs": [
    {
     "data": {
      "text/html": [
       "<div>\n",
       "<style scoped>\n",
       "    .dataframe tbody tr th:only-of-type {\n",
       "        vertical-align: middle;\n",
       "    }\n",
       "\n",
       "    .dataframe tbody tr th {\n",
       "        vertical-align: top;\n",
       "    }\n",
       "\n",
       "    .dataframe thead th {\n",
       "        text-align: right;\n",
       "    }\n",
       "</style>\n",
       "<table border=\"1\" class=\"dataframe\">\n",
       "  <thead>\n",
       "    <tr style=\"text-align: right;\">\n",
       "      <th></th>\n",
       "      <th>nomem_encr</th>\n",
       "      <th>new_child</th>\n",
       "    </tr>\n",
       "  </thead>\n",
       "  <tbody>\n",
       "    <tr>\n",
       "      <th>0</th>\n",
       "      <td>800000.0</td>\n",
       "      <td>NaN</td>\n",
       "    </tr>\n",
       "    <tr>\n",
       "      <th>1</th>\n",
       "      <td>800018.0</td>\n",
       "      <td>NaN</td>\n",
       "    </tr>\n",
       "    <tr>\n",
       "      <th>2</th>\n",
       "      <td>800021.0</td>\n",
       "      <td>NaN</td>\n",
       "    </tr>\n",
       "    <tr>\n",
       "      <th>3</th>\n",
       "      <td>800033.0</td>\n",
       "      <td>NaN</td>\n",
       "    </tr>\n",
       "    <tr>\n",
       "      <th>4</th>\n",
       "      <td>800042.0</td>\n",
       "      <td>NaN</td>\n",
       "    </tr>\n",
       "    <tr>\n",
       "      <th>5</th>\n",
       "      <td>800057.0</td>\n",
       "      <td>0.0</td>\n",
       "    </tr>\n",
       "    <tr>\n",
       "      <th>6</th>\n",
       "      <td>800076.0</td>\n",
       "      <td>NaN</td>\n",
       "    </tr>\n",
       "    <tr>\n",
       "      <th>7</th>\n",
       "      <td>800085.0</td>\n",
       "      <td>NaN</td>\n",
       "    </tr>\n",
       "    <tr>\n",
       "      <th>8</th>\n",
       "      <td>800103.0</td>\n",
       "      <td>NaN</td>\n",
       "    </tr>\n",
       "    <tr>\n",
       "      <th>9</th>\n",
       "      <td>800112.0</td>\n",
       "      <td>NaN</td>\n",
       "    </tr>\n",
       "  </tbody>\n",
       "</table>\n",
       "</div>"
      ],
      "text/plain": [
       "   nomem_encr  new_child\n",
       "0    800000.0        NaN\n",
       "1    800018.0        NaN\n",
       "2    800021.0        NaN\n",
       "3    800033.0        NaN\n",
       "4    800042.0        NaN\n",
       "5    800057.0        0.0\n",
       "6    800076.0        NaN\n",
       "7    800085.0        NaN\n",
       "8    800103.0        NaN\n",
       "9    800112.0        NaN"
      ]
     },
     "execution_count": 7,
     "metadata": {},
     "output_type": "execute_result"
    }
   ],
   "source": [
    "outcome.head(10)\n",
    "# they indeed look structured in the same way\n",
    "# The feature dataset contains a combination of numerical and categorical variables"
   ]
  },
  {
   "cell_type": "code",
   "execution_count": 8,
   "id": "fcdc48b7-ae77-418f-97b9-221b1b0c5a2e",
   "metadata": {},
   "outputs": [
    {
     "data": {
      "text/plain": [
       "count    902.000000\n",
       "mean       0.165188\n",
       "std        0.371557\n",
       "min        0.000000\n",
       "25%        0.000000\n",
       "50%        0.000000\n",
       "75%        0.000000\n",
       "max        1.000000\n",
       "Name: new_child, dtype: float64"
      ]
     },
     "execution_count": 8,
     "metadata": {},
     "output_type": "execute_result"
    }
   ],
   "source": [
    "# Let's have a look at the target variable descriptives \n",
    "outcome['new_child'].describe()\n",
    "# Only 16.4 % of the samples are in the 1 class"
   ]
  },
  {
   "cell_type": "code",
   "execution_count": 9,
   "id": "6329c4eb-b1ab-4754-9151-79535461d9e9",
   "metadata": {},
   "outputs": [],
   "source": [
    "# Selecting the data\n",
    "selected_columns = ['burgstat2019', 'leeftijd2019', 'woonvorm2019', 'oplmet2019', 'aantalki2019']\n",
    "features = data[selected_columns]"
   ]
  },
  {
   "cell_type": "code",
   "execution_count": 10,
   "id": "ae2d1bfd-fb08-4ea1-9ca8-44f70b776fdb",
   "metadata": {},
   "outputs": [],
   "source": [
    "# Cleaning the data\n",
    "# The null values in the target variable\n",
    "y_isna = outcome['new_child'].isnull()\n",
    "\n",
    "# The rows where any of the features is NaN\n",
    "X_isna = features.isnull().any(axis=1)\n",
    "\n",
    "# For both datasets drop rows where any of the features is NaN OR the outcome is NaN\n",
    "features = features.drop(features[y_isna | X_isna].index)\n",
    "outcome = outcome.drop(outcome[y_isna | X_isna].index)"
   ]
  },
  {
   "cell_type": "code",
   "execution_count": 11,
   "id": "9a664f55-819a-4731-b089-0a6dc1f8ed49",
   "metadata": {},
   "outputs": [
    {
     "data": {
      "text/plain": [
       "(504, 5)"
      ]
     },
     "execution_count": 11,
     "metadata": {},
     "output_type": "execute_result"
    }
   ],
   "source": [
    "# Let's have a check whether everything went as it should\n",
    "features.shape"
   ]
  },
  {
   "cell_type": "code",
   "execution_count": 12,
   "id": "24cebedf-42f2-4ee1-94f6-4c8cc5416a13",
   "metadata": {},
   "outputs": [],
   "source": [
    "# Preprocessing (recoding) the variables\n",
    "from sklearn.compose import make_column_selector as selector\n",
    "\n",
    "numerical_columns_selector = selector(dtype_exclude=object)\n",
    "categorical_columns_selector = selector(dtype_include=object)\n",
    "\n",
    "numerical_columns = numerical_columns_selector(features)\n",
    "categorical_columns = categorical_columns_selector(features)"
   ]
  },
  {
   "cell_type": "code",
   "execution_count": 13,
   "id": "2a4587c0-cf27-4ada-9766-872956ada4db",
   "metadata": {},
   "outputs": [],
   "source": [
    "from sklearn.preprocessing import OneHotEncoder, StandardScaler\n",
    "categorical_preprocessor = OneHotEncoder(handle_unknown=\"ignore\")\n",
    "numerical_preprocessor = StandardScaler()\n",
    "\n",
    "from sklearn.compose import ColumnTransformer\n",
    "\n",
    "preprocessor = ColumnTransformer([\n",
    "    ('one-hot-encoder', categorical_preprocessor, categorical_columns),\n",
    "    ('standard_scaler', numerical_preprocessor, numerical_columns)])"
   ]
  },
  {
   "cell_type": "code",
   "execution_count": 14,
   "id": "0b1f5bca-17b2-49f4-b339-d7dabcc77526",
   "metadata": {},
   "outputs": [],
   "source": [
    "# Machine learning - Step 1: Split data into train and test datasets\n",
    "from sklearn.model_selection import train_test_split\n",
    "X_train, X_test, y_train, y_test = train_test_split(\n",
    "    features, outcome['new_child'], test_size=0.30, random_state=42)"
   ]
  },
  {
   "cell_type": "code",
   "execution_count": 26,
   "id": "1f9337e0-2ab8-436f-913a-a3636b1b2e01",
   "metadata": {},
   "outputs": [
    {
     "data": {
      "text/plain": [
       "(352, 5)"
      ]
     },
     "execution_count": 26,
     "metadata": {},
     "output_type": "execute_result"
    }
   ],
   "source": [
    "X_train.shape"
   ]
  },
  {
   "cell_type": "code",
   "execution_count": 27,
   "id": "996d487d-f9b5-4948-b644-a16c313271db",
   "metadata": {},
   "outputs": [
    {
     "data": {
      "text/plain": [
       "(152, 5)"
      ]
     },
     "execution_count": 27,
     "metadata": {},
     "output_type": "execute_result"
    }
   ],
   "source": [
    "X_test.shape"
   ]
  },
  {
   "cell_type": "code",
   "execution_count": 28,
   "id": "7db1d363-cb18-4825-a953-c08f085acfab",
   "metadata": {},
   "outputs": [
    {
     "data": {
      "text/plain": [
       "(352,)"
      ]
     },
     "execution_count": 28,
     "metadata": {},
     "output_type": "execute_result"
    }
   ],
   "source": [
    "y_train.shape"
   ]
  },
  {
   "cell_type": "code",
   "execution_count": 29,
   "id": "c4efd63c-a608-494f-bd6a-b9949b43156a",
   "metadata": {},
   "outputs": [
    {
     "data": {
      "text/plain": [
       "(152,)"
      ]
     },
     "execution_count": 29,
     "metadata": {},
     "output_type": "execute_result"
    }
   ],
   "source": [
    "y_test.shape"
   ]
  },
  {
   "cell_type": "code",
   "execution_count": 30,
   "id": "e08ef935-d1ca-4886-a20e-e3b045df519e",
   "metadata": {},
   "outputs": [
    {
     "data": {
      "text/html": [
       "<style>#sk-container-id-2 {color: black;background-color: white;}#sk-container-id-2 pre{padding: 0;}#sk-container-id-2 div.sk-toggleable {background-color: white;}#sk-container-id-2 label.sk-toggleable__label {cursor: pointer;display: block;width: 100%;margin-bottom: 0;padding: 0.3em;box-sizing: border-box;text-align: center;}#sk-container-id-2 label.sk-toggleable__label-arrow:before {content: \"▸\";float: left;margin-right: 0.25em;color: #696969;}#sk-container-id-2 label.sk-toggleable__label-arrow:hover:before {color: black;}#sk-container-id-2 div.sk-estimator:hover label.sk-toggleable__label-arrow:before {color: black;}#sk-container-id-2 div.sk-toggleable__content {max-height: 0;max-width: 0;overflow: hidden;text-align: left;background-color: #f0f8ff;}#sk-container-id-2 div.sk-toggleable__content pre {margin: 0.2em;color: black;border-radius: 0.25em;background-color: #f0f8ff;}#sk-container-id-2 input.sk-toggleable__control:checked~div.sk-toggleable__content {max-height: 200px;max-width: 100%;overflow: auto;}#sk-container-id-2 input.sk-toggleable__control:checked~label.sk-toggleable__label-arrow:before {content: \"▾\";}#sk-container-id-2 div.sk-estimator input.sk-toggleable__control:checked~label.sk-toggleable__label {background-color: #d4ebff;}#sk-container-id-2 div.sk-label input.sk-toggleable__control:checked~label.sk-toggleable__label {background-color: #d4ebff;}#sk-container-id-2 input.sk-hidden--visually {border: 0;clip: rect(1px 1px 1px 1px);clip: rect(1px, 1px, 1px, 1px);height: 1px;margin: -1px;overflow: hidden;padding: 0;position: absolute;width: 1px;}#sk-container-id-2 div.sk-estimator {font-family: monospace;background-color: #f0f8ff;border: 1px dotted black;border-radius: 0.25em;box-sizing: border-box;margin-bottom: 0.5em;}#sk-container-id-2 div.sk-estimator:hover {background-color: #d4ebff;}#sk-container-id-2 div.sk-parallel-item::after {content: \"\";width: 100%;border-bottom: 1px solid gray;flex-grow: 1;}#sk-container-id-2 div.sk-label:hover label.sk-toggleable__label {background-color: #d4ebff;}#sk-container-id-2 div.sk-serial::before {content: \"\";position: absolute;border-left: 1px solid gray;box-sizing: border-box;top: 0;bottom: 0;left: 50%;z-index: 0;}#sk-container-id-2 div.sk-serial {display: flex;flex-direction: column;align-items: center;background-color: white;padding-right: 0.2em;padding-left: 0.2em;position: relative;}#sk-container-id-2 div.sk-item {position: relative;z-index: 1;}#sk-container-id-2 div.sk-parallel {display: flex;align-items: stretch;justify-content: center;background-color: white;position: relative;}#sk-container-id-2 div.sk-item::before, #sk-container-id-2 div.sk-parallel-item::before {content: \"\";position: absolute;border-left: 1px solid gray;box-sizing: border-box;top: 0;bottom: 0;left: 50%;z-index: -1;}#sk-container-id-2 div.sk-parallel-item {display: flex;flex-direction: column;z-index: 1;position: relative;background-color: white;}#sk-container-id-2 div.sk-parallel-item:first-child::after {align-self: flex-end;width: 50%;}#sk-container-id-2 div.sk-parallel-item:last-child::after {align-self: flex-start;width: 50%;}#sk-container-id-2 div.sk-parallel-item:only-child::after {width: 0;}#sk-container-id-2 div.sk-dashed-wrapped {border: 1px dashed gray;margin: 0 0.4em 0.5em 0.4em;box-sizing: border-box;padding-bottom: 0.4em;background-color: white;}#sk-container-id-2 div.sk-label label {font-family: monospace;font-weight: bold;display: inline-block;line-height: 1.2em;}#sk-container-id-2 div.sk-label-container {text-align: center;}#sk-container-id-2 div.sk-container {/* jupyter's `normalize.less` sets `[hidden] { display: none; }` but bootstrap.min.css set `[hidden] { display: none !important; }` so we also need the `!important` here to be able to override the default hidden behavior on the sphinx rendered scikit-learn.org. See: https://github.com/scikit-learn/scikit-learn/issues/21755 */display: inline-block !important;position: relative;}#sk-container-id-2 div.sk-text-repr-fallback {display: none;}</style><div id=\"sk-container-id-2\" class=\"sk-top-container\"><div class=\"sk-text-repr-fallback\"><pre>Pipeline(steps=[(&#x27;columntransformer&#x27;,\n",
       "                 ColumnTransformer(transformers=[(&#x27;one-hot-encoder&#x27;,\n",
       "                                                  OneHotEncoder(handle_unknown=&#x27;ignore&#x27;),\n",
       "                                                  [&#x27;burgstat2019&#x27;,\n",
       "                                                   &#x27;woonvorm2019&#x27;, &#x27;oplmet2019&#x27;,\n",
       "                                                   &#x27;aantalki2019&#x27;]),\n",
       "                                                 (&#x27;standard_scaler&#x27;,\n",
       "                                                  StandardScaler(),\n",
       "                                                  [&#x27;leeftijd2019&#x27;])])),\n",
       "                (&#x27;logisticregression&#x27;, LogisticRegression(max_iter=500))])</pre><b>In a Jupyter environment, please rerun this cell to show the HTML representation or trust the notebook. <br />On GitHub, the HTML representation is unable to render, please try loading this page with nbviewer.org.</b></div><div class=\"sk-container\" hidden><div class=\"sk-item sk-dashed-wrapped\"><div class=\"sk-label-container\"><div class=\"sk-label sk-toggleable\"><input class=\"sk-toggleable__control sk-hidden--visually\" id=\"sk-estimator-id-8\" type=\"checkbox\" ><label for=\"sk-estimator-id-8\" class=\"sk-toggleable__label sk-toggleable__label-arrow\">Pipeline</label><div class=\"sk-toggleable__content\"><pre>Pipeline(steps=[(&#x27;columntransformer&#x27;,\n",
       "                 ColumnTransformer(transformers=[(&#x27;one-hot-encoder&#x27;,\n",
       "                                                  OneHotEncoder(handle_unknown=&#x27;ignore&#x27;),\n",
       "                                                  [&#x27;burgstat2019&#x27;,\n",
       "                                                   &#x27;woonvorm2019&#x27;, &#x27;oplmet2019&#x27;,\n",
       "                                                   &#x27;aantalki2019&#x27;]),\n",
       "                                                 (&#x27;standard_scaler&#x27;,\n",
       "                                                  StandardScaler(),\n",
       "                                                  [&#x27;leeftijd2019&#x27;])])),\n",
       "                (&#x27;logisticregression&#x27;, LogisticRegression(max_iter=500))])</pre></div></div></div><div class=\"sk-serial\"><div class=\"sk-item sk-dashed-wrapped\"><div class=\"sk-label-container\"><div class=\"sk-label sk-toggleable\"><input class=\"sk-toggleable__control sk-hidden--visually\" id=\"sk-estimator-id-9\" type=\"checkbox\" ><label for=\"sk-estimator-id-9\" class=\"sk-toggleable__label sk-toggleable__label-arrow\">columntransformer: ColumnTransformer</label><div class=\"sk-toggleable__content\"><pre>ColumnTransformer(transformers=[(&#x27;one-hot-encoder&#x27;,\n",
       "                                 OneHotEncoder(handle_unknown=&#x27;ignore&#x27;),\n",
       "                                 [&#x27;burgstat2019&#x27;, &#x27;woonvorm2019&#x27;, &#x27;oplmet2019&#x27;,\n",
       "                                  &#x27;aantalki2019&#x27;]),\n",
       "                                (&#x27;standard_scaler&#x27;, StandardScaler(),\n",
       "                                 [&#x27;leeftijd2019&#x27;])])</pre></div></div></div><div class=\"sk-parallel\"><div class=\"sk-parallel-item\"><div class=\"sk-item\"><div class=\"sk-label-container\"><div class=\"sk-label sk-toggleable\"><input class=\"sk-toggleable__control sk-hidden--visually\" id=\"sk-estimator-id-10\" type=\"checkbox\" ><label for=\"sk-estimator-id-10\" class=\"sk-toggleable__label sk-toggleable__label-arrow\">one-hot-encoder</label><div class=\"sk-toggleable__content\"><pre>[&#x27;burgstat2019&#x27;, &#x27;woonvorm2019&#x27;, &#x27;oplmet2019&#x27;, &#x27;aantalki2019&#x27;]</pre></div></div></div><div class=\"sk-serial\"><div class=\"sk-item\"><div class=\"sk-estimator sk-toggleable\"><input class=\"sk-toggleable__control sk-hidden--visually\" id=\"sk-estimator-id-11\" type=\"checkbox\" ><label for=\"sk-estimator-id-11\" class=\"sk-toggleable__label sk-toggleable__label-arrow\">OneHotEncoder</label><div class=\"sk-toggleable__content\"><pre>OneHotEncoder(handle_unknown=&#x27;ignore&#x27;)</pre></div></div></div></div></div></div><div class=\"sk-parallel-item\"><div class=\"sk-item\"><div class=\"sk-label-container\"><div class=\"sk-label sk-toggleable\"><input class=\"sk-toggleable__control sk-hidden--visually\" id=\"sk-estimator-id-12\" type=\"checkbox\" ><label for=\"sk-estimator-id-12\" class=\"sk-toggleable__label sk-toggleable__label-arrow\">standard_scaler</label><div class=\"sk-toggleable__content\"><pre>[&#x27;leeftijd2019&#x27;]</pre></div></div></div><div class=\"sk-serial\"><div class=\"sk-item\"><div class=\"sk-estimator sk-toggleable\"><input class=\"sk-toggleable__control sk-hidden--visually\" id=\"sk-estimator-id-13\" type=\"checkbox\" ><label for=\"sk-estimator-id-13\" class=\"sk-toggleable__label sk-toggleable__label-arrow\">StandardScaler</label><div class=\"sk-toggleable__content\"><pre>StandardScaler()</pre></div></div></div></div></div></div></div></div><div class=\"sk-item\"><div class=\"sk-estimator sk-toggleable\"><input class=\"sk-toggleable__control sk-hidden--visually\" id=\"sk-estimator-id-14\" type=\"checkbox\" ><label for=\"sk-estimator-id-14\" class=\"sk-toggleable__label sk-toggleable__label-arrow\">LogisticRegression</label><div class=\"sk-toggleable__content\"><pre>LogisticRegression(max_iter=500)</pre></div></div></div></div></div></div></div>"
      ],
      "text/plain": [
       "Pipeline(steps=[('columntransformer',\n",
       "                 ColumnTransformer(transformers=[('one-hot-encoder',\n",
       "                                                  OneHotEncoder(handle_unknown='ignore'),\n",
       "                                                  ['burgstat2019',\n",
       "                                                   'woonvorm2019', 'oplmet2019',\n",
       "                                                   'aantalki2019']),\n",
       "                                                 ('standard_scaler',\n",
       "                                                  StandardScaler(),\n",
       "                                                  ['leeftijd2019'])])),\n",
       "                ('logisticregression', LogisticRegression(max_iter=500))])"
      ]
     },
     "execution_count": 30,
     "metadata": {},
     "output_type": "execute_result"
    }
   ],
   "source": [
    "# Machine learning - Step 2: training the model\n",
    "from sklearn.linear_model import LogisticRegression\n",
    "from sklearn.pipeline import make_pipeline\n",
    "\n",
    "model = make_pipeline(preprocessor, LogisticRegression(max_iter=500))\n",
    "model"
   ]
  },
  {
   "cell_type": "code",
   "execution_count": 31,
   "id": "1a2c7d8a-f90e-43de-8580-c0f1facc646f",
   "metadata": {},
   "outputs": [],
   "source": [
    "from sklearn.model_selection import cross_validate\n",
    "cv_result = cross_validate(model, X_train, y_train, cv=5)"
   ]
  },
  {
   "cell_type": "code",
   "execution_count": 32,
   "id": "e5b10c6a-77f5-4973-ae57-e16205866924",
   "metadata": {},
   "outputs": [
    {
     "data": {
      "text/plain": [
       "{'fit_time': array([0.01695514, 0.01495409, 0.01299644, 0.01392746, 0.01232505]),\n",
       " 'score_time': array([0.00402021, 0.00499272, 0.00498939, 0.00402141, 0.0036304 ]),\n",
       " 'test_score': array([0.85915493, 0.84507042, 0.85714286, 0.85714286, 0.85714286])}"
      ]
     },
     "execution_count": 32,
     "metadata": {},
     "output_type": "execute_result"
    }
   ],
   "source": [
    "cv_result"
   ]
  },
  {
   "cell_type": "code",
   "execution_count": 33,
   "id": "d6a9818a-1513-4f6d-891c-3c4e924a88b2",
   "metadata": {},
   "outputs": [
    {
     "data": {
      "text/plain": [
       "(0.8551307847082494, 0.005090185368480278)"
      ]
     },
     "execution_count": 33,
     "metadata": {},
     "output_type": "execute_result"
    }
   ],
   "source": [
    "cv_result[\"test_score\"].mean(), cv_result[\"test_score\"].std()"
   ]
  },
  {
   "cell_type": "code",
   "execution_count": 34,
   "id": "0f8f3a46-0023-42a2-93eb-f8c6780841ab",
   "metadata": {},
   "outputs": [
    {
     "data": {
      "image/png": "[encoded data removed]",
      "text/plain": [
       "<Figure size 640x480 with 2 Axes>"
      ]
     },
     "metadata": {},
     "output_type": "display_data"
    }
   ],
   "source": [
    "from sklearn.metrics import ConfusionMatrixDisplay\n",
    "_ = model.fit(X_train, y_train)\n",
    "_ = ConfusionMatrixDisplay.from_estimator(model, X_train, y_train)"
   ]
  },
  {
   "cell_type": "code",
   "execution_count": null,
   "id": "382fdfdd-1e8c-4c00-aa28-97358a67fed0",
   "metadata": {},
   "outputs": [],
   "source": []
  }
 ],
 "metadata": {
  "kernelspec": {
   "display_name": "Python 3 (ipykernel)",
   "language": "python",
   "name": "python3"
  },
  "language_info": {
   "codemirror_mode": {
    "name": "ipython",
    "version": 3
   },
   "file_extension": ".py",
   "mimetype": "text/x-python",
   "name": "python",
   "nbconvert_exporter": "python",
   "pygments_lexer": "ipython3",
   "version": "3.11.4"
  }
 },
 "nbformat": 4,
 "nbformat_minor": 5
}
